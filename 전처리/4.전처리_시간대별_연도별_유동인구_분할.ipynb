{
 "cells": [
  {
   "cell_type": "code",
   "execution_count": 1,
   "id": "349460be",
   "metadata": {},
   "outputs": [],
   "source": [
    "import pandas as pd\n",
    "import numpy as np\n",
    "import matplotlib.pyplot as plt\n",
    "import seaborn as sns"
   ]
  },
  {
   "cell_type": "code",
   "execution_count": 2,
   "id": "06dcf2ab",
   "metadata": {},
   "outputs": [],
   "source": [
    "df = pd.read_csv('../data/1-9.화성시_시간대별_유동인구.csv')"
   ]
  },
  {
   "cell_type": "code",
   "execution_count": 3,
   "id": "9b79946c",
   "metadata": {},
   "outputs": [
    {
     "data": {
      "text/plain": [
       "5168678"
      ]
     },
     "execution_count": 3,
     "metadata": {},
     "output_type": "execute_result"
    }
   ],
   "source": [
    "len(df)"
   ]
  },
  {
   "cell_type": "code",
   "execution_count": 4,
   "id": "c9eeb92e",
   "metadata": {},
   "outputs": [],
   "source": [
    "df1 = df.copy()"
   ]
  },
  {
   "cell_type": "code",
   "execution_count": 5,
   "id": "3e4e2dbe",
   "metadata": {},
   "outputs": [
    {
     "data": {
      "text/plain": [
       "array([202001, 202002, 202003, 202004, 202005, 202006, 202007, 202008,\n",
       "       202009, 202010, 202011, 202012, 202101, 202102, 202103, 202104,\n",
       "       202105, 202106, 202107, 202108, 202109, 202110, 202111, 202112,\n",
       "       202201, 202202, 202203, 202204, 202205, 202206, 202207, 202208,\n",
       "       202209, 202210, 202211, 202212])"
      ]
     },
     "execution_count": 5,
     "metadata": {},
     "output_type": "execute_result"
    }
   ],
   "source": [
    "df1['STD_YM'].unique()"
   ]
  },
  {
   "cell_type": "code",
   "execution_count": 6,
   "id": "300dddb9",
   "metadata": {},
   "outputs": [],
   "source": [
    "df1_2020 = df1[df1['STD_YM'].between(202001, 202012)]"
   ]
  },
  {
   "cell_type": "code",
   "execution_count": 7,
   "id": "51f8fc31",
   "metadata": {},
   "outputs": [
    {
     "data": {
      "text/plain": [
       "array([202001, 202002, 202003, 202004, 202005, 202006, 202007, 202008,\n",
       "       202009, 202010, 202011, 202012])"
      ]
     },
     "execution_count": 7,
     "metadata": {},
     "output_type": "execute_result"
    }
   ],
   "source": [
    "df1_2020['STD_YM'].unique()"
   ]
  },
  {
   "cell_type": "code",
   "execution_count": 8,
   "id": "29e79284",
   "metadata": {},
   "outputs": [],
   "source": [
    "df1_2021 = df1[df1['STD_YM'].between(202101, 202112)]"
   ]
  },
  {
   "cell_type": "code",
   "execution_count": 9,
   "id": "0859c844",
   "metadata": {},
   "outputs": [
    {
     "data": {
      "text/plain": [
       "array([202101, 202102, 202103, 202104, 202105, 202106, 202107, 202108,\n",
       "       202109, 202110, 202111, 202112])"
      ]
     },
     "execution_count": 9,
     "metadata": {},
     "output_type": "execute_result"
    }
   ],
   "source": [
    "df1_2021['STD_YM'].unique()"
   ]
  },
  {
   "cell_type": "code",
   "execution_count": 10,
   "id": "72f4917e",
   "metadata": {},
   "outputs": [],
   "source": [
    "df1_2022 = df1[df1['STD_YM'].between(202201, 202212)]"
   ]
  },
  {
   "cell_type": "code",
   "execution_count": 11,
   "id": "466dc607",
   "metadata": {},
   "outputs": [
    {
     "data": {
      "text/plain": [
       "array([202201, 202202, 202203, 202204, 202205, 202206, 202207, 202208,\n",
       "       202209, 202210, 202211, 202212])"
      ]
     },
     "execution_count": 11,
     "metadata": {},
     "output_type": "execute_result"
    }
   ],
   "source": [
    "df1_2022['STD_YM'].unique()"
   ]
  },
  {
   "cell_type": "code",
   "execution_count": 12,
   "id": "e807f5f1",
   "metadata": {},
   "outputs": [],
   "source": [
    "df1_2020.to_csv('../data/화성시 시간대별유동인구_2020.csv', index=False)"
   ]
  },
  {
   "cell_type": "code",
   "execution_count": 13,
   "id": "3c4e328a",
   "metadata": {},
   "outputs": [],
   "source": [
    "df1_2021.to_csv('../data/화성시 시간대별유동인구_2021.csv', index=False)"
   ]
  },
  {
   "cell_type": "code",
   "execution_count": 14,
   "id": "1e11b390",
   "metadata": {},
   "outputs": [],
   "source": [
    "df1_2022.to_csv('../data/화성시 시간대별유동인구_2022.csv', index=False)"
   ]
  }
 ],
 "metadata": {
  "kernelspec": {
   "display_name": "Python 3",
   "language": "python",
   "name": "python3"
  },
  "language_info": {
   "codemirror_mode": {
    "name": "ipython",
    "version": 3
   },
   "file_extension": ".py",
   "mimetype": "text/x-python",
   "name": "python",
   "nbconvert_exporter": "python",
   "pygments_lexer": "ipython3",
   "version": "3.6.9"
  }
 },
 "nbformat": 4,
 "nbformat_minor": 5
}
