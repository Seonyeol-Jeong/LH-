{
 "cells": [
  {
   "cell_type": "code",
   "execution_count": 1,
   "id": "5a2babf8",
   "metadata": {},
   "outputs": [],
   "source": [
    "import pandas as pd\n",
    "import numpy as np\n",
    "import matplotlib.pyplot as plt\n",
    "import seaborn as sns"
   ]
  },
  {
   "cell_type": "code",
   "execution_count": 2,
   "id": "2c21f845",
   "metadata": {},
   "outputs": [],
   "source": [
    "df = pd.read_csv('../data/1-8.화성시_성연령별_유동인구.csv')"
   ]
  },
  {
   "cell_type": "code",
   "execution_count": 3,
   "id": "808172f9",
   "metadata": {},
   "outputs": [
    {
     "data": {
      "text/plain": [
       "5269124"
      ]
     },
     "execution_count": 3,
     "metadata": {},
     "output_type": "execute_result"
    }
   ],
   "source": [
    "len(df)"
   ]
  },
  {
   "cell_type": "code",
   "execution_count": 4,
   "id": "b64fcd81",
   "metadata": {},
   "outputs": [],
   "source": [
    "df1 = df.copy()"
   ]
  },
  {
   "cell_type": "code",
   "execution_count": 5,
   "id": "e7681640",
   "metadata": {},
   "outputs": [
    {
     "data": {
      "text/html": [
       "<div>\n",
       "<style scoped>\n",
       "    .dataframe tbody tr th:only-of-type {\n",
       "        vertical-align: middle;\n",
       "    }\n",
       "\n",
       "    .dataframe tbody tr th {\n",
       "        vertical-align: top;\n",
       "    }\n",
       "\n",
       "    .dataframe thead th {\n",
       "        text-align: right;\n",
       "    }\n",
       "</style>\n",
       "<table border=\"1\" class=\"dataframe\">\n",
       "  <thead>\n",
       "    <tr style=\"text-align: right;\">\n",
       "      <th></th>\n",
       "      <th>STD_YM</th>\n",
       "      <th>m_10g_pop</th>\n",
       "      <th>m_20g_pop</th>\n",
       "      <th>m_30g_pop</th>\n",
       "      <th>m_40g_pop</th>\n",
       "      <th>m_50g_pop</th>\n",
       "      <th>m_60g_pop</th>\n",
       "      <th>w_10g_pop</th>\n",
       "      <th>w_20g_pop</th>\n",
       "      <th>w_30g_pop</th>\n",
       "      <th>w_40g_pop</th>\n",
       "      <th>w_50g_pop</th>\n",
       "      <th>w_60g_pop</th>\n",
       "      <th>lon</th>\n",
       "      <th>lat</th>\n",
       "    </tr>\n",
       "  </thead>\n",
       "  <tbody>\n",
       "    <tr>\n",
       "      <th>0</th>\n",
       "      <td>202001</td>\n",
       "      <td>0.26</td>\n",
       "      <td>0.58</td>\n",
       "      <td>0.86</td>\n",
       "      <td>1.06</td>\n",
       "      <td>1.26</td>\n",
       "      <td>1.29</td>\n",
       "      <td>0.27</td>\n",
       "      <td>0.56</td>\n",
       "      <td>0.69</td>\n",
       "      <td>0.81</td>\n",
       "      <td>1.13</td>\n",
       "      <td>1.34</td>\n",
       "      <td>126.616734</td>\n",
       "      <td>37.169078</td>\n",
       "    </tr>\n",
       "    <tr>\n",
       "      <th>1</th>\n",
       "      <td>202001</td>\n",
       "      <td>0.25</td>\n",
       "      <td>0.56</td>\n",
       "      <td>0.83</td>\n",
       "      <td>1.05</td>\n",
       "      <td>1.18</td>\n",
       "      <td>1.23</td>\n",
       "      <td>0.27</td>\n",
       "      <td>0.56</td>\n",
       "      <td>0.62</td>\n",
       "      <td>0.81</td>\n",
       "      <td>1.11</td>\n",
       "      <td>1.17</td>\n",
       "      <td>126.616729</td>\n",
       "      <td>37.169528</td>\n",
       "    </tr>\n",
       "    <tr>\n",
       "      <th>2</th>\n",
       "      <td>202001</td>\n",
       "      <td>0.30</td>\n",
       "      <td>0.68</td>\n",
       "      <td>0.95</td>\n",
       "      <td>1.17</td>\n",
       "      <td>1.42</td>\n",
       "      <td>1.40</td>\n",
       "      <td>0.32</td>\n",
       "      <td>0.67</td>\n",
       "      <td>0.74</td>\n",
       "      <td>0.93</td>\n",
       "      <td>1.22</td>\n",
       "      <td>1.34</td>\n",
       "      <td>126.616724</td>\n",
       "      <td>37.169979</td>\n",
       "    </tr>\n",
       "    <tr>\n",
       "      <th>3</th>\n",
       "      <td>202001</td>\n",
       "      <td>0.34</td>\n",
       "      <td>0.76</td>\n",
       "      <td>1.04</td>\n",
       "      <td>1.25</td>\n",
       "      <td>1.56</td>\n",
       "      <td>1.53</td>\n",
       "      <td>0.36</td>\n",
       "      <td>0.75</td>\n",
       "      <td>0.79</td>\n",
       "      <td>1.03</td>\n",
       "      <td>1.34</td>\n",
       "      <td>1.46</td>\n",
       "      <td>126.616718</td>\n",
       "      <td>37.170430</td>\n",
       "    </tr>\n",
       "    <tr>\n",
       "      <th>4</th>\n",
       "      <td>202001</td>\n",
       "      <td>0.22</td>\n",
       "      <td>0.67</td>\n",
       "      <td>0.99</td>\n",
       "      <td>1.51</td>\n",
       "      <td>1.87</td>\n",
       "      <td>1.77</td>\n",
       "      <td>0.20</td>\n",
       "      <td>0.56</td>\n",
       "      <td>0.76</td>\n",
       "      <td>1.26</td>\n",
       "      <td>1.73</td>\n",
       "      <td>1.65</td>\n",
       "      <td>126.616713</td>\n",
       "      <td>37.170880</td>\n",
       "    </tr>\n",
       "  </tbody>\n",
       "</table>\n",
       "</div>"
      ],
      "text/plain": [
       "   STD_YM  m_10g_pop  m_20g_pop  m_30g_pop  m_40g_pop  m_50g_pop  m_60g_pop  \\\n",
       "0  202001       0.26       0.58       0.86       1.06       1.26       1.29   \n",
       "1  202001       0.25       0.56       0.83       1.05       1.18       1.23   \n",
       "2  202001       0.30       0.68       0.95       1.17       1.42       1.40   \n",
       "3  202001       0.34       0.76       1.04       1.25       1.56       1.53   \n",
       "4  202001       0.22       0.67       0.99       1.51       1.87       1.77   \n",
       "\n",
       "   w_10g_pop  w_20g_pop  w_30g_pop  w_40g_pop  w_50g_pop  w_60g_pop  \\\n",
       "0       0.27       0.56       0.69       0.81       1.13       1.34   \n",
       "1       0.27       0.56       0.62       0.81       1.11       1.17   \n",
       "2       0.32       0.67       0.74       0.93       1.22       1.34   \n",
       "3       0.36       0.75       0.79       1.03       1.34       1.46   \n",
       "4       0.20       0.56       0.76       1.26       1.73       1.65   \n",
       "\n",
       "          lon        lat  \n",
       "0  126.616734  37.169078  \n",
       "1  126.616729  37.169528  \n",
       "2  126.616724  37.169979  \n",
       "3  126.616718  37.170430  \n",
       "4  126.616713  37.170880  "
      ]
     },
     "execution_count": 5,
     "metadata": {},
     "output_type": "execute_result"
    }
   ],
   "source": [
    "df1.head()"
   ]
  },
  {
   "cell_type": "code",
   "execution_count": 6,
   "id": "6a3177ba",
   "metadata": {},
   "outputs": [
    {
     "data": {
      "text/plain": [
       "array([202001, 202002, 202003, 202004, 202005, 202006, 202007, 202008,\n",
       "       202009, 202010, 202011, 202012, 202101, 202102, 202103, 202104,\n",
       "       202105, 202106, 202107, 202108, 202109, 202110, 202111, 202112,\n",
       "       202201, 202202, 202203, 202204, 202205, 202206, 202207, 202208,\n",
       "       202209, 202210, 202211, 202212])"
      ]
     },
     "execution_count": 6,
     "metadata": {},
     "output_type": "execute_result"
    }
   ],
   "source": [
    "df1['STD_YM'].unique()"
   ]
  },
  {
   "cell_type": "code",
   "execution_count": 7,
   "id": "a1e2afd0",
   "metadata": {},
   "outputs": [],
   "source": [
    "df1_2020 = df1[df1['STD_YM'].between(202001, 202012)]"
   ]
  },
  {
   "cell_type": "code",
   "execution_count": 8,
   "id": "14508cde",
   "metadata": {},
   "outputs": [
    {
     "data": {
      "text/plain": [
       "array([202001, 202002, 202003, 202004, 202005, 202006, 202007, 202008,\n",
       "       202009, 202010, 202011, 202012])"
      ]
     },
     "execution_count": 8,
     "metadata": {},
     "output_type": "execute_result"
    }
   ],
   "source": [
    "df1_2020['STD_YM'].unique()"
   ]
  },
  {
   "cell_type": "code",
   "execution_count": 9,
   "id": "aba2756f",
   "metadata": {},
   "outputs": [],
   "source": [
    "df1_2021 = df1[df1['STD_YM'].between(202101, 202112)]"
   ]
  },
  {
   "cell_type": "code",
   "execution_count": 10,
   "id": "e871091e",
   "metadata": {},
   "outputs": [
    {
     "data": {
      "text/plain": [
       "array([202101, 202102, 202103, 202104, 202105, 202106, 202107, 202108,\n",
       "       202109, 202110, 202111, 202112])"
      ]
     },
     "execution_count": 10,
     "metadata": {},
     "output_type": "execute_result"
    }
   ],
   "source": [
    "df1_2021['STD_YM'].unique()"
   ]
  },
  {
   "cell_type": "code",
   "execution_count": 11,
   "id": "4d922681",
   "metadata": {},
   "outputs": [],
   "source": [
    "df1_2022 = df1[df1['STD_YM'].between(202201, 202212)]"
   ]
  },
  {
   "cell_type": "code",
   "execution_count": 12,
   "id": "c686f35e",
   "metadata": {},
   "outputs": [
    {
     "data": {
      "text/plain": [
       "array([202201, 202202, 202203, 202204, 202205, 202206, 202207, 202208,\n",
       "       202209, 202210, 202211, 202212])"
      ]
     },
     "execution_count": 12,
     "metadata": {},
     "output_type": "execute_result"
    }
   ],
   "source": [
    "df1_2022['STD_YM'].unique()"
   ]
  },
  {
   "cell_type": "code",
   "execution_count": 13,
   "id": "f974f2c4",
   "metadata": {},
   "outputs": [],
   "source": [
    "df1_2020.to_csv('../data/화성시 성연령별유동인구_2020.csv', index=False)"
   ]
  },
  {
   "cell_type": "code",
   "execution_count": 14,
   "id": "8833ec5c",
   "metadata": {},
   "outputs": [],
   "source": [
    "df1_2021.to_csv('../data/화성시 성연령별유동인구_2021.csv', index=False)"
   ]
  },
  {
   "cell_type": "code",
   "execution_count": 15,
   "id": "a7ff88e2",
   "metadata": {},
   "outputs": [],
   "source": [
    "df1_2022.to_csv('../data/화성시 성연령별유동인구_2022.csv', index=False)"
   ]
  }
 ],
 "metadata": {
  "kernelspec": {
   "display_name": "Python 3",
   "language": "python",
   "name": "python3"
  },
  "language_info": {
   "codemirror_mode": {
    "name": "ipython",
    "version": 3
   },
   "file_extension": ".py",
   "mimetype": "text/x-python",
   "name": "python",
   "nbconvert_exporter": "python",
   "pygments_lexer": "ipython3",
   "version": "3.6.9"
  }
 },
 "nbformat": 4,
 "nbformat_minor": 5
}
