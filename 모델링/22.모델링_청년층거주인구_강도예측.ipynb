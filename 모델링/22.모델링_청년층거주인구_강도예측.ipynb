{
 "cells": [
  {
   "cell_type": "code",
   "execution_count": 1,
   "id": "fa012009",
   "metadata": {},
   "outputs": [],
   "source": [
    "import numpy as np\n",
    "import pandas as pd \n",
    "import geopandas as gpd\n",
    "\n",
    "# 거리계산\n",
    "from geopy.distance import geodesic\n",
    "from shapely.geometry import Point\n",
    "from shapely.ops import unary_union\n",
    "from sklearn.neighbors import BallTree\n",
    "from sklearn.metrics.pairwise import haversine_distances\n",
    "from math import radians\n",
    "\n",
    "# 시각화\n",
    "import matplotlib.pyplot as plt\n",
    "import seaborn as sns\n",
    "\n",
    "plt.rcParams['font.family'] = 'Malgun Gothic'\n",
    "plt.rcParams['axes.unicode_minus'] = False\n",
    "\n",
    "# 인코딩\n",
    "from sklearn.preprocessing import LabelEncoder\n",
    "\n",
    "# 전처리\n",
    "from sklearn.model_selection import train_test_split\n",
    "from sklearn.preprocessing import StandardScaler\n",
    "from scipy.stats import yeojohnson\n",
    "\n",
    "# 군집화\n",
    "from sklearn.cluster import KMeans\n",
    "from sklearn.cluster import SpectralClustering\n",
    "from sklearn.cluster import OPTICS\n",
    "from sklearn.metrics import silhouette_score\n",
    "\n",
    "# 증강\n",
    "from imblearn.over_sampling import SMOTE\n",
    "\n",
    "# 분류기\n",
    "from sklearn.ensemble import RandomForestClassifier\n",
    "from sklearn.ensemble import GradientBoostingClassifier\n",
    "from sklearn.svm import SVC\n",
    "\n",
    "# 조합생성\n",
    "from itertools import combinations\n",
    "\n",
    "# 파라미터 탐색\n",
    "from sklearn.model_selection import GridSearchCV\n",
    "\n",
    "# 평가모델\n",
    "from sklearn.metrics import accuracy_score, precision_score, recall_score, f1_score, confusion_matrix, mean_squared_error, r2_score, classification_report\n",
    "from sklearn.metrics import roc_curve, roc_auc_score, classification_report, confusion_matrix, accuracy_score"
   ]
  },
  {
   "cell_type": "code",
   "execution_count": 2,
   "id": "e39ccb6e",
   "metadata": {},
   "outputs": [],
   "source": [
    "gdf = gpd.read_file('../data/1-14.화성시_격자.geojson')\n",
    "df_지하철= pd.read_csv('../data/1-6.화성시_지하철역.csv')\n",
    "df_주차장= pd.read_csv('../data/1-7.화성시_공영주차장.csv')\n",
    "df_임대정보=pd.read_csv('../data/1-12.공공주택임대_정보(화성시).csv')\n",
    "df_상권유형=pd.read_csv('../data/화성_상권유형.csv')\n",
    "df_정류장=pd.read_csv('../data/1-5.화성시_버스정류장.csv')\n",
    "df_공유차량=pd.read_csv('../data/1-11.화성시_공유차량_이용현황.csv')\n",
    "df_공장=pd.read_csv('../data/공장등록현황_utf.csv') # 공장 \n",
    "df_학교=pd.read_csv('../data/화성시학교.csv')"
   ]
  },
  {
   "cell_type": "code",
   "execution_count": 3,
   "id": "a453755a",
   "metadata": {},
   "outputs": [],
   "source": [
    "df_지하철.columns= ['역이름','지하철노선이름','경도','위도']\n",
    "df_주차장.columns = ['이름', '종류', '주차면수', '경도', '위도'] # 101\n",
    "df_정류장.columns=['버스아이디','정류장이름','경도','위도']\n",
    "df_공장.rename({'정제WGS84위도':'위도','정제WGS84경도':'경도'},axis=1,inplace=True)"
   ]
  },
  {
   "cell_type": "code",
   "execution_count": 4,
   "id": "9da1939c",
   "metadata": {},
   "outputs": [],
   "source": [
    "df_거주인구=pd.read_csv('../data/df_2022_임대주택거주인구.csv')\n",
    "df_거주인구 = df_거주인구.drop(['월세', \n",
    "                              'm_20g_pop', 'w_20g_pop', 'm_30g_pop', 'w_30g_pop', \n",
    "                               'm_40g_pop', 'w_40g_pop', 'm_50g_pop', 'w_50g_pop', \n",
    "                               'm_60g_pop', 'w_60g_pop', 'm_70g_pop', 'w_70g_pop', \n",
    "                               'm_80g_pop', 'w_80g_pop', 'm_90g_pop', 'w_90g_pop',\n",
    "                               'm_100g_pop', 'w_100g_pop'], axis = 1)\n",
    "df_거주인구=df_거주인구.drop_duplicates()\n"
   ]
  },
  {
   "cell_type": "code",
   "execution_count": 5,
   "id": "9cff9429",
   "metadata": {},
   "outputs": [
    {
     "data": {
      "text/plain": [
       "52"
      ]
     },
     "execution_count": 5,
     "metadata": {},
     "output_type": "execute_result"
    }
   ],
   "source": [
    "df_거주인구.단지명.to_list()\n",
    "df_거주인구.tail(20)\n",
    "df_거주인구[['경도']].duplicated().sum()"
   ]
  },
  {
   "cell_type": "markdown",
   "id": "932f5517",
   "metadata": {},
   "source": [
    "# 1) 데이터 전처리"
   ]
  },
  {
   "cell_type": "markdown",
   "id": "7bd1d11f",
   "metadata": {},
   "source": [
    "## 최종 예측에 사용될 열\n",
    "- 단지별 데이터 \n",
    "1. 임대주택 정보를 기준 => 세대수, 세대유형, 단지평수\n",
    "2. 주차장: 500,1000m 반경 내의 주차면수 , 가장 가까운 주차장과의 거리\n",
    "3. 지하철: 가장 가까운 지하철과의 거리\n",
    "4. 정류장: 가장 가까운 정류장과의 거리, nm 반경 내의 정류장 개수 \n",
    "5. 거주인구: 해당 단지의 청년층 비율 \n",
    "6. 공장 , 학교 추가 => 가장 가까운 학교까지의 거리(초,중,고 따로) / 주변 반경 nkm 내 공장 수\n",
    "    \n",
    "- 격자별 데이터 \n",
    "1. 상권강도 => 3km내의 강도 평균 \n",
    "2. 상권업종 => 3km 내의 최빈값 \n",
    "3. 교통 추정량 => 반경 내의 추정량 평균 or 합 \n",
    "4. 유동인구 => 격자별 강도 "
   ]
  },
  {
   "cell_type": "markdown",
   "id": "a58498aa",
   "metadata": {},
   "source": [
    "## 1. 임대주택의 지원유형을 통합+거주인구 비율 추가 +평수 추가\n",
    "- 세대수\n",
    "- 두 가지 지원유형으로 바꾸기 => [공공임대, 통합공공임대]\n",
    "- 거주인구 비율 추가\n",
    "하나 알게 된점 : 거주인구의 79행과 공유차량 30행의 단지코드가 서로 알맞지 않다. 또한, 거주인구 데이터에 공유차량이 필요해보이는 행이 있었지만 배치되어 있지 않은듯 하다. "
   ]
  },
  {
   "cell_type": "code",
   "execution_count": 6,
   "id": "95e60b1e",
   "metadata": {},
   "outputs": [],
   "source": [
    "# 단지평수 인코딩하여 열 추가하는 코드 \n",
    "unique_gdf = df_거주인구.drop_duplicates(subset=['단지코드', '단지명', '지원유형', '세대수', '주차면수', '경도', '위도', 'geometry'])\n",
    "dange_pyeongsu = df_거주인구.groupby('단지코드')['단지평수'].unique().reset_index()\n",
    "dange_pyeongsu['단지평수'] = dange_pyeongsu['단지평수'].apply(lambda x: [str(i) for i in x])\n",
    "dange_pyeongsu_encoded = dange_pyeongsu['단지평수'].str.join('|').str.get_dummies(sep='|')\n",
    "dange_pyeongsu = pd.concat([dange_pyeongsu['단지코드'], dange_pyeongsu_encoded], axis=1)\n",
    "final_gdf = unique_gdf.merge(dange_pyeongsu, on='단지코드', how='left')\n",
    "df_거주인구=final_gdf.copy()"
   ]
  },
  {
   "cell_type": "code",
   "execution_count": 7,
   "id": "61f11a38",
   "metadata": {},
   "outputs": [],
   "source": [
    "# 거주인구: 청년층 비율 계산 \n",
    "df_거주인구['청년층비율']=df_거주인구.youth_pop/df_거주인구.total_pop"
   ]
  },
  {
   "cell_type": "code",
   "execution_count": 8,
   "id": "9241e646",
   "metadata": {},
   "outputs": [],
   "source": [
    "# 지원유형 통합 및 인코딩하여 추가\n",
    "df_거주인구.loc[df_거주인구['지원유형'].isin(['영구임대', '국민임대', '행복주택']), '지원유형'] = '통합공공임대'\n",
    "gdf_support_encoded = pd.get_dummies(df_거주인구['지원유형'], prefix='지원유형')\n",
    "df_거주인구 = pd.concat([df_거주인구, gdf_support_encoded], axis=1)"
   ]
  },
  {
   "cell_type": "code",
   "execution_count": 9,
   "id": "005011ef",
   "metadata": {},
   "outputs": [
    {
     "data": {
      "text/plain": [
       "Index(['단지코드', '단지명', '지원유형', '세대수', '주차면수', '경도', '위도', 'geometry', '단지평수',\n",
       "       'gid', 'total_pop', 'youth_pop', '10평 이하', '20평 이하', '30평 이하', '청년층비율',\n",
       "       '지원유형_공공임대', '지원유형_통합공공임대'],\n",
       "      dtype='object')"
      ]
     },
     "execution_count": 9,
     "metadata": {},
     "output_type": "execute_result"
    }
   ],
   "source": [
    "# df_거주인구: 세대수, 평수, 지원유형, 지하철역거리, 청년층비율 추가\n",
    "df_거주인구.columns"
   ]
  },
  {
   "cell_type": "markdown",
   "id": "229aaa12",
   "metadata": {},
   "source": [
    "## 2. 지하철+주차장 + 정류장 추가"
   ]
  },
  {
   "cell_type": "markdown",
   "id": "b8e384fa",
   "metadata": {},
   "source": [
    "가장 가까운 주차장과의 거리  \n",
    "가장 가까운 정류장과의 거리  \n",
    "가장 가까운 지하철과의 거리 "
   ]
  },
  {
   "cell_type": "code",
   "execution_count": 10,
   "id": "9fc8c078",
   "metadata": {},
   "outputs": [
    {
     "name": "stdout",
     "output_type": "stream",
     "text": [
      "Index(['이름', '종류', '주차면수', '경도', '위도'], dtype='object')\n",
      "Index(['버스아이디', '정류장이름', '경도', '위도'], dtype='object')\n",
      "Index(['역이름', '지하철노선이름', '경도', '위도'], dtype='object')\n"
     ]
    }
   ],
   "source": [
    "print(df_주차장.columns)\n",
    "print(df_정류장.columns)\n",
    "print(df_지하철.columns)"
   ]
  },
  {
   "cell_type": "code",
   "execution_count": 11,
   "id": "836f900e",
   "metadata": {},
   "outputs": [],
   "source": [
    "# 거리 계산 함수 (주어진 지점과 가장 가까운 거리 계산)\n",
    "def calculate_min_distance(df_coords, target_coords):\n",
    "    distances = np.array([\n",
    "        geodesic(target_coords, station_coords).meters\n",
    "        for station_coords in df_coords\n",
    "    ])\n",
    "    return distances.min()\n",
    "\n",
    "# 벡터화된 반경 내 가장 가까운 주차장 거리 계산 함수\n",
    "def calculate_parking_stats_vectorized(source_coords, target_coords, target_values):\n",
    "    \n",
    "    # 좌표를 라디안으로 변환\n",
    "    source_coords_rad = np.radians(source_coords)\n",
    "    target_coords_rad = np.radians(target_coords)\n",
    "\n",
    "    # Haversine 거리를 계산하고 반경 내 필터링\n",
    "    distances = haversine_distances(source_coords_rad, target_coords_rad) * 6371000  # 지구 반경 곱하기 (미터)\n",
    "\n",
    "    # 가장 가까운 거리 계산\n",
    "    nearest_distances = distances.min(axis=1)  # 가장 가까운 거리\n",
    "    return  nearest_distances\n",
    "\n",
    "\n",
    "# 정류장 또는 주차장의 위도/경도 좌표\n",
    "df1_coords = df_정류장[['위도', '경도']].values  # 정류장 데이터\n",
    "df2_coords = df_주차장[['위도', '경도']].values  # 주차장 데이터\n",
    "df3_coords = df_지하철[['위도', '경도']].values  # 지하철 데이터\n",
    "df2_slots = df_주차장['주차면수'].values  # 주차면수\n",
    "\n",
    "# 아파트 단지의 위도/경도 좌표\n",
    "apartments_coords = df_거주인구[['위도', '경도']].values\n",
    "\n",
    "####### 1. 가장 가까운 정류장 거리 계산\n",
    "def calculate_nearest_station(row):\n",
    "    target_coords = (row['위도'], row['경도'])\n",
    "    distances = haversine_distances(\n",
    "        [np.radians(target_coords)], np.radians(df1_coords)\n",
    "    )[0] * 6371000  # 미터로 변환\n",
    "    return distances.min()\n",
    "def calculate_nearest_subway(row):\n",
    "    target_coords = (row['위도'], row['경도'])\n",
    "    distances = haversine_distances(\n",
    "        [np.radians(target_coords)], np.radians(df3_coords)\n",
    "    )[0] * 6371000  # 미터로 변환\n",
    "    return distances.min()\n",
    "\n",
    "df_거주인구['nearest_station_distance'] = df_거주인구.apply(calculate_nearest_station, axis=1)\n",
    "df_거주인구['nearest_subway_station_distance'] = df_거주인구.apply(calculate_nearest_subway, axis=1)\n",
    "\n",
    "####### 2. 가장 가까운 주차장 거리 계산\n",
    "df_거주인구['nearest_parking_distance'] = calculate_parking_stats_vectorized(\n",
    "    apartments_coords, df2_coords, df2_slots\n",
    ")"
   ]
  },
  {
   "cell_type": "code",
   "execution_count": 12,
   "id": "5d33301d",
   "metadata": {},
   "outputs": [
    {
     "data": {
      "text/plain": [
       "Index(['단지코드', '단지명', '지원유형', '세대수', '주차면수', '경도', '위도', 'geometry', '단지평수',\n",
       "       'gid', 'total_pop', 'youth_pop', '10평 이하', '20평 이하', '30평 이하', '청년층비율',\n",
       "       '지원유형_공공임대', '지원유형_통합공공임대', 'nearest_station_distance',\n",
       "       'nearest_subway_station_distance', 'nearest_parking_distance'],\n",
       "      dtype='object')"
      ]
     },
     "execution_count": 12,
     "metadata": {},
     "output_type": "execute_result"
    }
   ],
   "source": [
    "df_거주인구.columns"
   ]
  },
  {
   "cell_type": "markdown",
   "id": "5f27adae",
   "metadata": {},
   "source": [
    "## 3. 각 단지별로 상권강도, 업종 추가"
   ]
  },
  {
   "cell_type": "code",
   "execution_count": 13,
   "id": "27be1c1a",
   "metadata": {},
   "outputs": [],
   "source": [
    "# NaN을 새로운 카테고리로 대체\n",
    "df_상권유형['cluster'] = df_상권유형['cluster'].fillna('미확인')\n",
    "\n",
    "# 수동 매핑 설정\n",
    "mapping = {'일반상권': 1, '주택상권': 2, '복합상권': 3}\n",
    "\n",
    "# cluster 열 매핑 적용 및 NaN 처리\n",
    "df_상권유형['cluster_encoded'] = df_상권유형['cluster'].map(mapping).fillna(0).astype(int)\n",
    "\n",
    "# 상권정보와 격자 merge\n",
    "target=df_상권유형[['gid','상권밀집도','cluster_encoded']]\n",
    "gdf2=target.merge(gdf)\n",
    "\n",
    "# 중심점 계산\n",
    "def calculate_centroid(geometry):\n",
    "    return geometry.centroid\n",
    "\n",
    "# 중심점 거리 계산\n",
    "def calculate_distance(coord1, coord2):\n",
    "    return geodesic(coord1, coord2).meters\n",
    "\n",
    "# 연산 수행\n",
    "gdf2['centroid'] = gdf2['geometry'].apply(calculate_centroid) # 중심점 추가\n",
    "gdf2['centroid_lon'] = gdf2['centroid'].apply(lambda x: x.x) # 경도\n",
    "gdf2['centroid_lat'] = gdf2['centroid'].apply(lambda x: x.y) # 위도"
   ]
  },
  {
   "cell_type": "code",
   "execution_count": 14,
   "id": "dea1da92",
   "metadata": {},
   "outputs": [],
   "source": [
    "df_상권유형=gdf2.copy()\n",
    "df_상권유형=df_상권유형.rename({'centroid_lon':'경도','centroid_lat':'위도'},axis=1)"
   ]
  },
  {
   "cell_type": "code",
   "execution_count": 15,
   "id": "54602717",
   "metadata": {},
   "outputs": [],
   "source": [
    "# 반경 내 평균 상권 밀집도와 최빈 상권 유형 계산\n",
    "def calculate_average_and_mode(df_population, df_commercial, radius=3000):\n",
    "    \n",
    "    # 위도, 경도를 라디안으로 변환\n",
    "    population_coords = np.radians(df_population[['위도', '경도']].values)\n",
    "    commercial_coords = np.radians(df_commercial[['위도', '경도']].values)\n",
    "    \n",
    "    # BallTree 생성\n",
    "    tree = BallTree(commercial_coords, metric='haversine')\n",
    "    \n",
    "    # 반경 내 인덱스 가져오기\n",
    "    radius_in_radians = radius / 6371000  # 지구 반지름 = 6371000m\n",
    "    indices_within_radius = tree.query_radius(population_coords, r=radius_in_radians)\n",
    "    \n",
    "    # 평균 밀집도와 최빈 상권 유형 계산\n",
    "    average_densities = []\n",
    "    most_frequent_clusters = []\n",
    "    for indices in indices_within_radius:\n",
    "        if len(indices) > 0:\n",
    "            \n",
    "            # 평균 상권 밀집도\n",
    "            avg_density = df_commercial.iloc[indices]['상권밀집도'].mean()\n",
    "            \n",
    "            # 최빈 상권 유형\n",
    "            mode_cluster = df_commercial.iloc[indices]['cluster_encoded'].mode()[0]\n",
    "        else:\n",
    "            \n",
    "            # 반경 내 데이터가 없을 경우\n",
    "            avg_density = None\n",
    "            mode_cluster = None\n",
    "        \n",
    "        average_densities.append(avg_density)\n",
    "        most_frequent_clusters.append(mode_cluster)\n",
    "    \n",
    "    return average_densities, most_frequent_clusters\n",
    "\n",
    "# 실행\n",
    "average_density, most_frequent_cluster = calculate_average_and_mode(df_거주인구, df_상권유형)\n",
    "df_거주인구['반경3km_상권강도평균'] = average_density\n",
    "df_거주인구['반경3km_상권유형최빈값'] = most_frequent_cluster"
   ]
  },
  {
   "cell_type": "markdown",
   "id": "99bb9816",
   "metadata": {},
   "source": [
    "## 4. 가장 가까운 공장 및 학교와의 거리 구하기"
   ]
  },
  {
   "cell_type": "code",
   "execution_count": 16,
   "id": "d526453b",
   "metadata": {},
   "outputs": [],
   "source": [
    "# 가장 가까운 공장 거리 계산 함수\n",
    "def calculate_nearest_factory_distance(df_거주인구, df_공장):\n",
    "    \n",
    "    # 위도와 경도를 라디안으로 변환\n",
    "    거주인구_coords = np.radians(df_거주인구[['위도', '경도']].values)\n",
    "    공장_coords = np.radians(df_공장[['위도', '경도']].values)\n",
    "\n",
    "    # BallTree 생성\n",
    "    tree = BallTree(공장_coords, metric='haversine')\n",
    "\n",
    "    # 가장 가까운 공장까지의 거리 계산\n",
    "    distances, _ = tree.query(거주인구_coords, k=1)  # k=1: 가장 가까운 공장만 선택\n",
    "\n",
    "    # 거리 변환 (라디안 -> 미터)\n",
    "    distances_in_meters = distances.flatten() * 6371000  # 지구 반지름 = 6371000m\n",
    "\n",
    "    return distances_in_meters\n",
    "\n",
    "# 실행\n",
    "df_거주인구['가장가까운공장까지거리'] = calculate_nearest_factory_distance(df_거주인구, df_공장)"
   ]
  },
  {
   "cell_type": "code",
   "execution_count": 17,
   "id": "b1e46015",
   "metadata": {},
   "outputs": [],
   "source": [
    "# BallTree를 활용한 빠른 초/중/고 학교 거리 계산 함수\n",
    "def calculate_nearest_school_by_level(df_거주인구, df_학교, school_level):\n",
    "    \n",
    "    # 해당 학교급 필터링 => [초/중/고]\n",
    "    df_target_schools = df_학교[df_학교['학교급구분'] == school_level].copy()\n",
    "\n",
    "    # 위도와 경도를 라디안으로 변환\n",
    "    거주인구_coords = np.radians(df_거주인구[['위도', '경도']].values)\n",
    "    학교_coords = np.radians(df_target_schools[['위도', '경도']].values)\n",
    "\n",
    "    # BallTree 생성\n",
    "    tree = BallTree(학교_coords, metric='haversine')\n",
    "\n",
    "    # 가장 가까운 학교까지의 거리 계산\n",
    "    distances, indices = tree.query(거주인구_coords, k=1)  # k=1: 가장 가까운 학교만 선택\n",
    "\n",
    "    # 거리 변환 (라디안 -> 미터)\n",
    "    distances_in_meters = distances.flatten() * 6371000  # 지구 반지름 = 6371000m\n",
    "\n",
    "    # 가장 가까운 학교 정보 가져오기\n",
    "    nearest_schools = df_target_schools.iloc[indices.flatten()].reset_index(drop=True)\n",
    "\n",
    "    # 결과 반환\n",
    "    return pd.DataFrame({\n",
    "        f'가장가까운{school_level}이름': nearest_schools['학교명'],\n",
    "        f'{school_level}거리(m)': distances_in_meters\n",
    "    })\n",
    "\n",
    "# 각 학교급별 가장 가까운 거리 및 정보 추가\n",
    "df_nearest_초등학교 = calculate_nearest_school_by_level(df_거주인구, df_학교, '초등학교')\n",
    "df_nearest_중학교 = calculate_nearest_school_by_level(df_거주인구, df_학교, '중학교')\n",
    "df_nearest_고등학교 = calculate_nearest_school_by_level(df_거주인구, df_학교, '고등학교')\n",
    "\n",
    "# 결과 병합\n",
    "df_거주인구2 = pd.concat([df_거주인구.reset_index(drop=True), df_nearest_초등학교, df_nearest_중학교, df_nearest_고등학교], axis=1)"
   ]
  },
  {
   "cell_type": "markdown",
   "id": "b436a1af",
   "metadata": {},
   "source": [
    "## 최종 데이터프레임"
   ]
  },
  {
   "cell_type": "code",
   "execution_count": 18,
   "id": "882c49b1",
   "metadata": {},
   "outputs": [
    {
     "data": {
      "text/plain": [
       "Index(['세대수', 'total_pop', 'youth_pop', '10평 이하', '20평 이하', '30평 이하', '청년층비율',\n",
       "       '지원유형_통합공공임대', 'nearest_station_distance',\n",
       "       'nearest_subway_station_distance', 'nearest_parking_distance',\n",
       "       '반경3km_상권강도평균', '반경3km_상권유형최빈값', '가장가까운공장까지거리', '초등학교거리(m)', '중학교거리(m)',\n",
       "       '고등학교거리(m)'],\n",
       "      dtype='object')"
      ]
     },
     "execution_count": 18,
     "metadata": {},
     "output_type": "execute_result"
    }
   ],
   "source": [
    "df_거주인구2.columns\n",
    "df=df_거주인구2.drop(['단지코드', '단지명', '지원유형', '주차면수', '경도','위도', 'geometry', '단지평수','gid','가장가까운초등학교이름','가장가까운중학교이름','가장가까운고등학교이름', '지원유형_공공임대'],axis=1)\n",
    "df.columns"
   ]
  },
  {
   "cell_type": "markdown",
   "id": "e94019ec",
   "metadata": {},
   "source": [
    "## feature, target 변수 설정 및 train_test_split"
   ]
  },
  {
   "cell_type": "markdown",
   "id": "50ec4a83",
   "metadata": {},
   "source": [
    "*** feature ***  \n",
    "주택정보 : '세대수',  '10평 이하', '20평 이하', '30평 이하',   '지원유형_통합공공임대'  \n",
    "대중교통 접근성 : 'nearest_station_distance','nearest_subway_station_distance'  \n",
    "주차장 접근성 : 'nearest_parking_distance'  \n",
    "상권 강도 : '반경3km_상권강도평균',  '반경3km_상권유형최빈값'  \n",
    "공장 접근성 : '가장가까운공장까지거리'   \n",
    "학교 접근성 : '초등학교거리(m)', '중학교거리(m)', '고등학교거리(m)'  \n",
    "\n",
    "*** target ***  \n",
    "청년층강도: 청년층비율 > 0.3 ⇨ 1\n"
   ]
  },
  {
   "cell_type": "code",
   "execution_count": 19,
   "id": "c82506db",
   "metadata": {},
   "outputs": [
    {
     "name": "stdout",
     "output_type": "stream",
     "text": [
      "1    43\n",
      "0    36\n",
      "Name: 청년층강도, dtype: int64\n"
     ]
    }
   ],
   "source": [
    "# target 생성\n",
    "def categorize_ratio(청년층비율):\n",
    "    if 청년층비율 <= 0.3:\n",
    "        return 0\n",
    "    else:\n",
    "        return 1\n",
    "\n",
    "# 데이터 복사\n",
    "df2 = df.copy()\n",
    "\n",
    "df2['청년층강도'] = df2['청년층비율'].apply(categorize_ratio)\n",
    "print(df2['청년층강도'].value_counts())"
   ]
  },
  {
   "cell_type": "code",
   "execution_count": 20,
   "id": "63fb7779",
   "metadata": {},
   "outputs": [],
   "source": [
    "# Train-test split (80% 학습데이터, 20% 테스트데이터)\n",
    "X = df2.drop(columns=['total_pop','youth_pop', '청년층강도', '청년층비율'])\n",
    "y = df2['청년층강도']  # 타겟 변수\n",
    "\n",
    "X_train, X_test, y_train, y_test = train_test_split(X, y, test_size=0.2, random_state=42)"
   ]
  },
  {
   "cell_type": "code",
   "execution_count": 21,
   "id": "cadbf586",
   "metadata": {},
   "outputs": [
    {
     "name": "stdout",
     "output_type": "stream",
     "text": [
      "1    43\n",
      "0    36\n",
      "Name: 청년층강도, dtype: int64\n",
      "1    35\n",
      "0    28\n",
      "Name: 청년층강도, dtype: int64\n",
      "1    8\n",
      "0    8\n",
      "Name: 청년층강도, dtype: int64\n"
     ]
    }
   ],
   "source": [
    "print(y.value_counts())\n",
    "print(y_train.value_counts())\n",
    "print(y_test.value_counts())"
   ]
  },
  {
   "cell_type": "markdown",
   "id": "15f9f5f6",
   "metadata": {},
   "source": [
    "## 청년층강도별 공유차량 이용건수 차이 확인"
   ]
  },
  {
   "cell_type": "code",
   "execution_count": 22,
   "id": "df67ef4f",
   "metadata": {},
   "outputs": [],
   "source": [
    "# 공유차량과 target을 병합한 df 생성\n",
    "df3 = pd.concat([df2,df_거주인구2.단지코드],axis=1)\n",
    "df_공유차량 = pd.read_csv('../data/df_2022_lh거주인구공유차량_merge.csv')\n",
    "df_공유차량 = df_공유차량.drop('단지평수',axis=1)\n",
    "df_공유차량=df_공유차량[['단지코드', '단지명', '지원유형', '세대수',\n",
    "        '이용건수_2201', '이용시간_2201', '이용건수_2202', '이용시간_2202', '이용건수_2203',\n",
    "       '이용시간_2203', '이용건수_2204', '이용시간_2204', '이용건수_2205', '이용시간_2205',\n",
    "       '이용건수_2206', '이용시간_2206', '이용건수_2207', '이용시간_2207', '이용건수_2208',\n",
    "       '이용시간_2208', '이용건수_2209', '이용시간_2209', '이용건수_2210', '이용시간_2210',\n",
    "       '이용건수_2211', '이용시간_2211', '이용건수_2212', '이용시간_2212', '전체이용건수', '전체이용시간',\n",
    "       '차량유형','전체이용건수_2022', '전체이용시간_2022', '설치대수']]\n",
    "df_공유차량.drop_duplicates(inplace=True)\n",
    "df_공유차량 =  df_공유차량.reset_index(drop=True)\n",
    "\n",
    "# 공유차량이 있는 단지만 확인\n",
    "df4 = pd.merge(df3, df_공유차량, on=['단지코드','세대수'], how='inner')\n",
    "df5 = df4[df4['차량유형'].notna()]"
   ]
  },
  {
   "cell_type": "code",
   "execution_count": 23,
   "id": "ac9b5155",
   "metadata": {},
   "outputs": [
    {
     "name": "stderr",
     "output_type": "stream",
     "text": [
      "/opt/app-root/lib/python3.6/site-packages/ipykernel_launcher.py:8: SettingWithCopyWarning: \n",
      "A value is trying to be set on a copy of a slice from a DataFrame.\n",
      "Try using .loc[row_indexer,col_indexer] = value instead\n",
      "\n",
      "See the caveats in the documentation: https://pandas.pydata.org/pandas-docs/stable/user_guide/indexing.html#returning-a-view-versus-a-copy\n",
      "  \n"
     ]
    },
    {
     "data": {
      "image/png": "[encoded data removed]",
      "text/plain": [
       "<Figure size 864x432 with 1 Axes>"
      ]
     },
     "metadata": {
      "needs_background": "light"
     },
     "output_type": "display_data"
    }
   ],
   "source": [
    "# 1. 그룹화 및 평균 계산\n",
    "df6 = df5.groupby('청년층강도').mean()\n",
    "df6 = df6.reset_index()  # 인덱스 초기화\n",
    "\n",
    "# 2. 이용건수 열만 선택\n",
    "usage_columns = [col for col in df6.columns if col.startswith('이용건수_')]\n",
    "df6_usage = df6[usage_columns]\n",
    "df6_usage['청년층강도'] = df6['청년층강도']  # 그룹 정보 추가\n",
    "\n",
    "# 3. 데이터 변환 (melt: wide -> long)\n",
    "melted_data = df6_usage.melt(id_vars=['청년층강도'], \n",
    "                             var_name='Month', \n",
    "                             value_name='Usage')\n",
    "\n",
    "# 4. Month 값을 월로 변환 (2201 -> 1, ..., 2212 -> 12)\n",
    "melted_data['Month'] = melted_data['Month'].str.extract(r'(\\d+)$').astype(int) % 100\n",
    "\n",
    "# 5. 데이터 정렬\n",
    "melted_data = melted_data.sort_values(by=['Month', '청년층강도'])\n",
    "\n",
    "# 6. 시각화\n",
    "plt.figure(figsize=(12, 6))\n",
    "sns.lineplot(data=melted_data, x='Month', y='Usage', hue='청년층강도', marker=\"o\")\n",
    "\n",
    "# 7. 그래프 설정\n",
    "plt.title(\"월별 평균 이용건수 (그룹별)\", fontsize=16)\n",
    "plt.xlabel(\"월\", fontsize=12)\n",
    "plt.ylabel(\"평균 이용건수\", fontsize=12)\n",
    "plt.xticks(ticks=range(1, 13), labels=[f\"{i}월\" for i in range(1, 13)])  # X축 월 표시\n",
    "plt.ylim(0, melted_data['Usage'].max() + 10)  # Y축 범위 설정\n",
    "plt.legend(title=\"그룹\", loc=\"upper left\")\n",
    "plt.grid(True, linestyle='--', alpha=0.7)\n",
    "plt.tight_layout()  # 레이아웃 조정\n",
    "plt.show()"
   ]
  },
  {
   "cell_type": "markdown",
   "id": "bfb994b3",
   "metadata": {},
   "source": [
    "강도별 유의미한 차이가 있음."
   ]
  },
  {
   "cell_type": "markdown",
   "id": "c47c96ab",
   "metadata": {},
   "source": [
    "# 증강"
   ]
  },
  {
   "cell_type": "markdown",
   "id": "ea7215ad",
   "metadata": {},
   "source": [
    "63의 학습데이터로 분류모델을 학습시키기는 어려움  \n",
    "**데이터 증강**을 통해 데이터 불균형 문제와 성능 향상"
   ]
  },
  {
   "cell_type": "markdown",
   "id": "6fe838f6",
   "metadata": {},
   "source": [
    "## 모든 데이터 사용"
   ]
  },
  {
   "cell_type": "code",
   "execution_count": 24,
   "id": "e8f70273",
   "metadata": {},
   "outputs": [],
   "source": [
    "# train 데이터에 대해 데이터 증강 수행\n",
    "smote = SMOTE(random_state=42)\n",
    "X_train_resampled, y_train_resampled = smote.fit_resample(X_train, y_train)"
   ]
  },
  {
   "cell_type": "code",
   "execution_count": 25,
   "id": "75eed7c3",
   "metadata": {},
   "outputs": [
    {
     "name": "stdout",
     "output_type": "stream",
     "text": [
      "Training Random Forest...\n",
      "Accuracy for Random Forest: 0.5000\n",
      "              precision    recall  f1-score   support\n",
      "\n",
      "           0       0.50      0.25      0.33         8\n",
      "           1       0.50      0.75      0.60         8\n",
      "\n",
      "    accuracy                           0.50        16\n",
      "   macro avg       0.50      0.50      0.47        16\n",
      "weighted avg       0.50      0.50      0.47        16\n",
      "\n",
      "Training Gradient Boosting...\n",
      "Accuracy for Gradient Boosting: 0.4375\n",
      "              precision    recall  f1-score   support\n",
      "\n",
      "           0       0.40      0.25      0.31         8\n",
      "           1       0.45      0.62      0.53         8\n",
      "\n",
      "    accuracy                           0.44        16\n",
      "   macro avg       0.43      0.44      0.42        16\n",
      "weighted avg       0.43      0.44      0.42        16\n",
      "\n",
      "Training SVM (RBF Kernel)...\n",
      "Accuracy for SVM (RBF Kernel): 0.6250\n",
      "              precision    recall  f1-score   support\n",
      "\n",
      "           0       0.57      1.00      0.73         8\n",
      "           1       1.00      0.25      0.40         8\n",
      "\n",
      "    accuracy                           0.62        16\n",
      "   macro avg       0.79      0.62      0.56        16\n",
      "weighted avg       0.79      0.62      0.56        16\n",
      "\n",
      "\n",
      "Model Performance:\n",
      "               Model  Accuracy\n",
      "0      Random Forest    0.5000\n",
      "1  Gradient Boosting    0.4375\n",
      "2   SVM (RBF Kernel)    0.6250\n"
     ]
    }
   ],
   "source": [
    "# 모델 정의\n",
    "models = {\n",
    "    \"Random Forest\": RandomForestClassifier(n_estimators=100, random_state=42),\n",
    "    \"Gradient Boosting\": GradientBoostingClassifier(n_estimators=100, random_state=42),\n",
    "    \"SVM (RBF Kernel)\": SVC(kernel='rbf', C=1, gamma='scale', random_state=42)\n",
    "}\n",
    "\n",
    "# 모델 학습 및 평가\n",
    "results = {}\n",
    "for model_name, model in models.items():\n",
    "    print(f\"Training {model_name}...\")\n",
    "    model.fit(X_train_resampled, y_train_resampled)  # 증강된 학습 데이터 사용\n",
    "\n",
    "    # 테스트 데이터 예측\n",
    "    y_pred = model.predict(X_test)\n",
    "\n",
    "    # 성능 평가\n",
    "    acc = accuracy_score(y_test, y_pred)\n",
    "    print(f\"Accuracy for {model_name}: {acc:.4f}\")\n",
    "    print(classification_report(y_test, y_pred))\n",
    "\n",
    "    # 결과 저장\n",
    "    results[model_name] = acc\n",
    "\n",
    "# 결과 정리\n",
    "results_df = pd.DataFrame(list(results.items()), columns=['Model', 'Accuracy'])\n",
    "print(\"\\nModel Performance:\")\n",
    "print(results_df)"
   ]
  },
  {
   "cell_type": "markdown",
   "id": "f0cde748",
   "metadata": {},
   "source": [
    "# Feature Selection"
   ]
  },
  {
   "cell_type": "code",
   "execution_count": 26,
   "id": "2d2885e4",
   "metadata": {},
   "outputs": [
    {
     "name": "stdout",
     "output_type": "stream",
     "text": [
      "Best Combination of Keys: ['주택정보', '대중교통 접근성']\n",
      "Best Model: Gradient Boosting\n",
      "Best Accuracy: 0.75\n"
     ]
    }
   ],
   "source": [
    "# 키 딕셔너리 정의\n",
    "feature_dict = {\n",
    "    \"주택정보\": ['세대수', '10평 이하', '20평 이하', '30평 이하', '지원유형_통합공공임대'],\n",
    "    \"대중교통 접근성\": ['nearest_station_distance', 'nearest_subway_station_distance'],\n",
    "    \"주차장 접근성\": ['nearest_parking_distance'],\n",
    "    \"상권 강도\": ['반경3km_상권강도평균', '반경3km_상권유형최빈값'],\n",
    "    \"공장 접근성\": ['가장가까운공장까지거리'],\n",
    "    \"학교 접근성\": ['초등학교거리(m)', '중학교거리(m)', '고등학교거리(m)']\n",
    "}\n",
    "\n",
    "# 모델 정의\n",
    "models = {\n",
    "    \"Random Forest\": RandomForestClassifier(n_estimators=100, random_state=42),\n",
    "    \"Gradient Boosting\": GradientBoostingClassifier(n_estimators=100, random_state=42),\n",
    "    \"SVM (RBF Kernel)\": SVC(kernel='rbf', C=1, gamma='scale', random_state=42)\n",
    "}\n",
    "\n",
    "# 주택정보는 항상 포함 \n",
    "base_key = \"주택정보\"\n",
    "base_columns = feature_dict[base_key]\n",
    "\n",
    "# 주택정보 제외한 다른 키에 대해 조합 생성\n",
    "other_keys = [key for key in feature_dict if key != base_key]\n",
    "all_combinations = []\n",
    "for r in range(1, len(other_keys) + 1):\n",
    "    all_combinations.extend(combinations(other_keys, r))\n",
    "\n",
    "# 모델 성능 결과 저장\n",
    "best_combination = None\n",
    "best_accuracy = 0\n",
    "best_model = None\n",
    "\n",
    "# 성능 평가\n",
    "for combination in all_combinations:\n",
    "    # 현재 조합으로 컬럼 선택\n",
    "    selected_keys = [base_key] + list(combination)\n",
    "    selected_columns = [col for key in selected_keys for col in feature_dict[key]]\n",
    "    \n",
    "    # 데이터 분리\n",
    "    X2 = X[selected_columns]\n",
    "    y = df2['청년층강도']\n",
    "    X_train, X_test, y_train, y_test = train_test_split(X2, y, test_size=0.2, random_state=42)\n",
    "    \n",
    "    # 데이터 증강\n",
    "    smote = SMOTE(random_state=42)\n",
    "    X_train_resampled, y_train_resampled = smote.fit_resample(X_train, y_train)\n",
    "    \n",
    "    # 각 모델에 대해 평가\n",
    "    for model_name, model in models.items():\n",
    "        model.fit(X_train_resampled, y_train_resampled)\n",
    "        y_pred = model.predict(X_test)\n",
    "        acc = accuracy_score(y_test, y_pred)\n",
    "        \n",
    "        # 성능 갱신\n",
    "        if acc > best_accuracy:\n",
    "            best_accuracy = acc\n",
    "            best_combination = selected_keys\n",
    "            best_model = model_name\n",
    "\n",
    "# 최적의 조합과 모델 출력\n",
    "print(\"Best Combination of Keys:\", best_combination)\n",
    "print(\"Best Model:\", best_model)\n",
    "print(\"Best Accuracy:\", best_accuracy)"
   ]
  },
  {
   "cell_type": "code",
   "execution_count": 27,
   "id": "82d9d189",
   "metadata": {},
   "outputs": [
    {
     "name": "stdout",
     "output_type": "stream",
     "text": [
      "Training Random Forest...\n",
      "Accuracy for Random Forest: 0.6875\n",
      "              precision    recall  f1-score   support\n",
      "\n",
      "           0       1.00      0.38      0.55         8\n",
      "           1       0.62      1.00      0.76         8\n",
      "\n",
      "    accuracy                           0.69        16\n",
      "   macro avg       0.81      0.69      0.65        16\n",
      "weighted avg       0.81      0.69      0.65        16\n",
      "\n",
      "Training Gradient Boosting...\n",
      "Accuracy for Gradient Boosting: 0.7500\n",
      "              precision    recall  f1-score   support\n",
      "\n",
      "           0       1.00      0.50      0.67         8\n",
      "           1       0.67      1.00      0.80         8\n",
      "\n",
      "    accuracy                           0.75        16\n",
      "   macro avg       0.83      0.75      0.73        16\n",
      "weighted avg       0.83      0.75      0.73        16\n",
      "\n",
      "Training SVM (RBF Kernel)...\n",
      "Accuracy for SVM (RBF Kernel): 0.7500\n",
      "              precision    recall  f1-score   support\n",
      "\n",
      "           0       1.00      0.50      0.67         8\n",
      "           1       0.67      1.00      0.80         8\n",
      "\n",
      "    accuracy                           0.75        16\n",
      "   macro avg       0.83      0.75      0.73        16\n",
      "weighted avg       0.83      0.75      0.73        16\n",
      "\n",
      "\n",
      "Model Performance:\n",
      "               Model  Accuracy\n",
      "0      Random Forest    0.6875\n",
      "1  Gradient Boosting    0.7500\n",
      "2   SVM (RBF Kernel)    0.7500\n"
     ]
    }
   ],
   "source": [
    "X2 = X[['세대수', '10평 이하', '20평 이하', '30평 이하', '지원유형_통합공공임대', 'nearest_station_distance', 'nearest_subway_station_distance']]\n",
    "y = df2['청년층강도']\n",
    "\n",
    "X_train, X_test, y_train, y_test = train_test_split(X2, y, test_size=0.2, random_state=42)\n",
    "\n",
    "smote = SMOTE(random_state=42)\n",
    "X_train_resampled, y_train_resampled = smote.fit_resample(X_train, y_train)\n",
    "\n",
    "# 모델 정의\n",
    "models = {\n",
    "    \"Random Forest\": RandomForestClassifier(n_estimators=100, random_state=42),\n",
    "    \"Gradient Boosting\": GradientBoostingClassifier(n_estimators=100, random_state=42),\n",
    "    \"SVM (RBF Kernel)\": SVC(kernel='rbf', C=1, gamma='scale', random_state=42)\n",
    "}\n",
    "\n",
    "# 모델 학습 및 평가\n",
    "results = {}\n",
    "for model_name, model in models.items():\n",
    "    print(f\"Training {model_name}...\")\n",
    "    model.fit(X_train_resampled, y_train_resampled)  # 증강된 학습 데이터 사용\n",
    "\n",
    "    # 테스트 데이터 예측\n",
    "    y_pred = model.predict(X_test)\n",
    "\n",
    "    # 성능 평가\n",
    "    acc = accuracy_score(y_test, y_pred)\n",
    "    print(f\"Accuracy for {model_name}: {acc:.4f}\")\n",
    "    print(classification_report(y_test, y_pred))\n",
    "\n",
    "    # 결과 저장\n",
    "    results[model_name] = acc\n",
    "\n",
    "# 결과 정리\n",
    "results_df = pd.DataFrame(list(results.items()), columns=['Model', 'Accuracy'])\n",
    "\n",
    "print(\"\\nModel Performance:\")\n",
    "print(results_df)"
   ]
  },
  {
   "cell_type": "markdown",
   "id": "4768ea54",
   "metadata": {},
   "source": [
    "## 최종: 주택정보 + 대중교통 접근성만 사용"
   ]
  },
  {
   "cell_type": "code",
   "execution_count": 28,
   "id": "6ce0d564",
   "metadata": {},
   "outputs": [],
   "source": [
    "X2 = X[['세대수', '10평 이하', '20평 이하', '30평 이하', '지원유형_통합공공임대', 'nearest_station_distance', 'nearest_subway_station_distance']]\n",
    "y = df2['청년층강도']\n",
    "\n",
    "X_train, X_test, y_train, y_test = train_test_split(X2, y, test_size=0.2, random_state=42)\n",
    "\n",
    "smote = SMOTE(random_state=42)\n",
    "X_train_resampled, y_train_resampled = smote.fit_resample(X_train, y_train)"
   ]
  },
  {
   "cell_type": "code",
   "execution_count": 29,
   "id": "a0248847",
   "metadata": {},
   "outputs": [
    {
     "name": "stdout",
     "output_type": "stream",
     "text": [
      "Starting Gradient Boosting Grid Search...\n",
      "Fitting 3 folds for each of 54 candidates, totalling 162 fits\n",
      "[CV] END learning_rate=0.01, max_depth=3, n_estimators=100, subsample=0.8; total time=   0.0s\n",
      "[CV] END learning_rate=0.01, max_depth=3, n_estimators=100, subsample=0.8; total time=   0.1s\n",
      "[CV] END learning_rate=0.01, max_depth=3, n_estimators=100, subsample=0.8; total time=   0.0s\n",
      "[CV] END learning_rate=0.01, max_depth=3, n_estimators=100, subsample=1.0; total time=   0.1s\n",
      "[CV] END learning_rate=0.01, max_depth=3, n_estimators=100, subsample=1.0; total time=   0.0s\n",
      "[CV] END learning_rate=0.01, max_depth=3, n_estimators=100, subsample=1.0; total time=   0.1s\n",
      "[CV] END learning_rate=0.01, max_depth=3, n_estimators=200, subsample=0.8; total time=   0.1s\n",
      "[CV] END learning_rate=0.01, max_depth=3, n_estimators=200, subsample=0.8; total time=   0.1s\n",
      "[CV] END learning_rate=0.01, max_depth=3, n_estimators=200, subsample=0.8; total time=   0.1s\n",
      "[CV] END learning_rate=0.01, max_depth=3, n_estimators=200, subsample=1.0; total time=   0.1s\n",
      "[CV] END learning_rate=0.01, max_depth=3, n_estimators=200, subsample=1.0; total time=   0.1s\n",
      "[CV] END learning_rate=0.01, max_depth=3, n_estimators=200, subsample=1.0; total time=   0.1s\n",
      "[CV] END learning_rate=0.01, max_depth=3, n_estimators=300, subsample=0.8; total time=   0.2s\n",
      "[CV] END learning_rate=0.01, max_depth=3, n_estimators=300, subsample=0.8; total time=   0.1s\n",
      "[CV] END learning_rate=0.01, max_depth=3, n_estimators=300, subsample=0.8; total time=   0.2s\n",
      "[CV] END learning_rate=0.01, max_depth=3, n_estimators=300, subsample=1.0; total time=   0.1s\n",
      "[CV] END learning_rate=0.01, max_depth=3, n_estimators=300, subsample=1.0; total time=   0.1s\n",
      "[CV] END learning_rate=0.01, max_depth=3, n_estimators=300, subsample=1.0; total time=   0.1s\n",
      "[CV] END learning_rate=0.01, max_depth=5, n_estimators=100, subsample=0.8; total time=   0.1s\n",
      "[CV] END learning_rate=0.01, max_depth=5, n_estimators=100, subsample=0.8; total time=   0.1s\n",
      "[CV] END learning_rate=0.01, max_depth=5, n_estimators=100, subsample=0.8; total time=   0.1s\n",
      "[CV] END learning_rate=0.01, max_depth=5, n_estimators=100, subsample=1.0; total time=   0.1s\n",
      "[CV] END learning_rate=0.01, max_depth=5, n_estimators=100, subsample=1.0; total time=   0.1s\n",
      "[CV] END learning_rate=0.01, max_depth=5, n_estimators=100, subsample=1.0; total time=   0.1s\n",
      "[CV] END learning_rate=0.01, max_depth=5, n_estimators=200, subsample=0.8; total time=   0.2s\n",
      "[CV] END learning_rate=0.01, max_depth=5, n_estimators=200, subsample=0.8; total time=   0.1s\n",
      "[CV] END learning_rate=0.01, max_depth=5, n_estimators=200, subsample=0.8; total time=   0.1s\n",
      "[CV] END learning_rate=0.01, max_depth=5, n_estimators=200, subsample=1.0; total time=   0.1s\n",
      "[CV] END learning_rate=0.01, max_depth=5, n_estimators=200, subsample=1.0; total time=   0.1s\n",
      "[CV] END learning_rate=0.01, max_depth=5, n_estimators=200, subsample=1.0; total time=   0.1s\n",
      "[CV] END learning_rate=0.01, max_depth=5, n_estimators=300, subsample=0.8; total time=   0.2s\n",
      "[CV] END learning_rate=0.01, max_depth=5, n_estimators=300, subsample=0.8; total time=   0.2s\n",
      "[CV] END learning_rate=0.01, max_depth=5, n_estimators=300, subsample=0.8; total time=   0.2s\n",
      "[CV] END learning_rate=0.01, max_depth=5, n_estimators=300, subsample=1.0; total time=   0.2s\n",
      "[CV] END learning_rate=0.01, max_depth=5, n_estimators=300, subsample=1.0; total time=   0.2s\n",
      "[CV] END learning_rate=0.01, max_depth=5, n_estimators=300, subsample=1.0; total time=   0.2s\n",
      "[CV] END learning_rate=0.01, max_depth=7, n_estimators=100, subsample=0.8; total time=   0.1s\n",
      "[CV] END learning_rate=0.01, max_depth=7, n_estimators=100, subsample=0.8; total time=   0.1s\n",
      "[CV] END learning_rate=0.01, max_depth=7, n_estimators=100, subsample=0.8; total time=   0.1s\n",
      "[CV] END learning_rate=0.01, max_depth=7, n_estimators=100, subsample=1.0; total time=   0.1s\n",
      "[CV] END learning_rate=0.01, max_depth=7, n_estimators=100, subsample=1.0; total time=   0.1s\n",
      "[CV] END learning_rate=0.01, max_depth=7, n_estimators=100, subsample=1.0; total time=   0.1s\n",
      "[CV] END learning_rate=0.01, max_depth=7, n_estimators=200, subsample=0.8; total time=   0.2s\n",
      "[CV] END learning_rate=0.01, max_depth=7, n_estimators=200, subsample=0.8; total time=   0.2s\n",
      "[CV] END learning_rate=0.01, max_depth=7, n_estimators=200, subsample=0.8; total time=   0.2s\n",
      "[CV] END learning_rate=0.01, max_depth=7, n_estimators=200, subsample=1.0; total time=   0.1s\n",
      "[CV] END learning_rate=0.01, max_depth=7, n_estimators=200, subsample=1.0; total time=   0.1s\n",
      "[CV] END learning_rate=0.01, max_depth=7, n_estimators=200, subsample=1.0; total time=   0.2s\n",
      "[CV] END learning_rate=0.01, max_depth=7, n_estimators=300, subsample=0.8; total time=   0.3s\n",
      "[CV] END learning_rate=0.01, max_depth=7, n_estimators=300, subsample=0.8; total time=   0.3s\n",
      "[CV] END learning_rate=0.01, max_depth=7, n_estimators=300, subsample=0.8; total time=   0.3s\n",
      "[CV] END learning_rate=0.01, max_depth=7, n_estimators=300, subsample=1.0; total time=   0.2s\n",
      "[CV] END learning_rate=0.01, max_depth=7, n_estimators=300, subsample=1.0; total time=   0.2s\n",
      "[CV] END learning_rate=0.01, max_depth=7, n_estimators=300, subsample=1.0; total time=   0.2s\n",
      "[CV] END learning_rate=0.1, max_depth=3, n_estimators=100, subsample=0.8; total time=   0.1s\n",
      "[CV] END learning_rate=0.1, max_depth=3, n_estimators=100, subsample=0.8; total time=   0.0s\n",
      "[CV] END learning_rate=0.1, max_depth=3, n_estimators=100, subsample=0.8; total time=   0.1s\n",
      "[CV] END learning_rate=0.1, max_depth=3, n_estimators=100, subsample=1.0; total time=   0.1s\n",
      "[CV] END learning_rate=0.1, max_depth=3, n_estimators=100, subsample=1.0; total time=   0.0s\n",
      "[CV] END learning_rate=0.1, max_depth=3, n_estimators=100, subsample=1.0; total time=   0.0s\n",
      "[CV] END learning_rate=0.1, max_depth=3, n_estimators=200, subsample=0.8; total time=   0.1s\n",
      "[CV] END learning_rate=0.1, max_depth=3, n_estimators=200, subsample=0.8; total time=   0.1s\n",
      "[CV] END learning_rate=0.1, max_depth=3, n_estimators=200, subsample=0.8; total time=   0.1s\n",
      "[CV] END learning_rate=0.1, max_depth=3, n_estimators=200, subsample=1.0; total time=   0.1s\n",
      "[CV] END learning_rate=0.1, max_depth=3, n_estimators=200, subsample=1.0; total time=   0.1s\n",
      "[CV] END learning_rate=0.1, max_depth=3, n_estimators=200, subsample=1.0; total time=   0.1s\n",
      "[CV] END learning_rate=0.1, max_depth=3, n_estimators=300, subsample=0.8; total time=   0.1s\n",
      "[CV] END learning_rate=0.1, max_depth=3, n_estimators=300, subsample=0.8; total time=   0.1s\n",
      "[CV] END learning_rate=0.1, max_depth=3, n_estimators=300, subsample=0.8; total time=   0.1s\n",
      "[CV] END learning_rate=0.1, max_depth=3, n_estimators=300, subsample=1.0; total time=   0.1s\n",
      "[CV] END learning_rate=0.1, max_depth=3, n_estimators=300, subsample=1.0; total time=   0.1s\n",
      "[CV] END learning_rate=0.1, max_depth=3, n_estimators=300, subsample=1.0; total time=   0.1s\n",
      "[CV] END learning_rate=0.1, max_depth=5, n_estimators=100, subsample=0.8; total time=   0.1s\n",
      "[CV] END learning_rate=0.1, max_depth=5, n_estimators=100, subsample=0.8; total time=   0.1s\n",
      "[CV] END learning_rate=0.1, max_depth=5, n_estimators=100, subsample=0.8; total time=   0.1s\n",
      "[CV] END learning_rate=0.1, max_depth=5, n_estimators=100, subsample=1.0; total time=   0.1s\n",
      "[CV] END learning_rate=0.1, max_depth=5, n_estimators=100, subsample=1.0; total time=   0.1s\n",
      "[CV] END learning_rate=0.1, max_depth=5, n_estimators=100, subsample=1.0; total time=   0.1s\n",
      "[CV] END learning_rate=0.1, max_depth=5, n_estimators=200, subsample=0.8; total time=   0.2s\n",
      "[CV] END learning_rate=0.1, max_depth=5, n_estimators=200, subsample=0.8; total time=   0.1s\n",
      "[CV] END learning_rate=0.1, max_depth=5, n_estimators=200, subsample=0.8; total time=   0.2s\n",
      "[CV] END learning_rate=0.1, max_depth=5, n_estimators=200, subsample=1.0; total time=   0.1s\n",
      "[CV] END learning_rate=0.1, max_depth=5, n_estimators=200, subsample=1.0; total time=   0.2s\n",
      "[CV] END learning_rate=0.1, max_depth=5, n_estimators=200, subsample=1.0; total time=   0.1s\n",
      "[CV] END learning_rate=0.1, max_depth=5, n_estimators=300, subsample=0.8; total time=   0.2s\n",
      "[CV] END learning_rate=0.1, max_depth=5, n_estimators=300, subsample=0.8; total time=   0.2s\n",
      "[CV] END learning_rate=0.1, max_depth=5, n_estimators=300, subsample=0.8; total time=   0.2s\n",
      "[CV] END learning_rate=0.1, max_depth=5, n_estimators=300, subsample=1.0; total time=   0.2s\n",
      "[CV] END learning_rate=0.1, max_depth=5, n_estimators=300, subsample=1.0; total time=   0.2s\n",
      "[CV] END learning_rate=0.1, max_depth=5, n_estimators=300, subsample=1.0; total time=   0.2s\n",
      "[CV] END learning_rate=0.1, max_depth=7, n_estimators=100, subsample=0.8; total time=   0.1s\n",
      "[CV] END learning_rate=0.1, max_depth=7, n_estimators=100, subsample=0.8; total time=   0.1s\n",
      "[CV] END learning_rate=0.1, max_depth=7, n_estimators=100, subsample=0.8; total time=   0.1s\n",
      "[CV] END learning_rate=0.1, max_depth=7, n_estimators=100, subsample=1.0; total time=   0.1s\n",
      "[CV] END learning_rate=0.1, max_depth=7, n_estimators=100, subsample=1.0; total time=   0.1s\n",
      "[CV] END learning_rate=0.1, max_depth=7, n_estimators=100, subsample=1.0; total time=   0.1s\n",
      "[CV] END learning_rate=0.1, max_depth=7, n_estimators=200, subsample=0.8; total time=   0.2s\n",
      "[CV] END learning_rate=0.1, max_depth=7, n_estimators=200, subsample=0.8; total time=   0.2s\n",
      "[CV] END learning_rate=0.1, max_depth=7, n_estimators=200, subsample=0.8; total time=   0.2s\n",
      "[CV] END learning_rate=0.1, max_depth=7, n_estimators=200, subsample=1.0; total time=   0.1s\n",
      "[CV] END learning_rate=0.1, max_depth=7, n_estimators=200, subsample=1.0; total time=   0.2s\n",
      "[CV] END learning_rate=0.1, max_depth=7, n_estimators=200, subsample=1.0; total time=   0.1s\n",
      "[CV] END learning_rate=0.1, max_depth=7, n_estimators=300, subsample=0.8; total time=   0.3s\n",
      "[CV] END learning_rate=0.1, max_depth=7, n_estimators=300, subsample=0.8; total time=   0.3s\n",
      "[CV] END learning_rate=0.1, max_depth=7, n_estimators=300, subsample=0.8; total time=   0.3s\n",
      "[CV] END learning_rate=0.1, max_depth=7, n_estimators=300, subsample=1.0; total time=   0.2s\n",
      "[CV] END learning_rate=0.1, max_depth=7, n_estimators=300, subsample=1.0; total time=   0.2s\n",
      "[CV] END learning_rate=0.1, max_depth=7, n_estimators=300, subsample=1.0; total time=   0.2s\n",
      "[CV] END learning_rate=0.2, max_depth=3, n_estimators=100, subsample=0.8; total time=   0.1s\n",
      "[CV] END learning_rate=0.2, max_depth=3, n_estimators=100, subsample=0.8; total time=   0.0s\n",
      "[CV] END learning_rate=0.2, max_depth=3, n_estimators=100, subsample=0.8; total time=   0.1s\n",
      "[CV] END learning_rate=0.2, max_depth=3, n_estimators=100, subsample=1.0; total time=   0.0s\n",
      "[CV] END learning_rate=0.2, max_depth=3, n_estimators=100, subsample=1.0; total time=   0.0s\n",
      "[CV] END learning_rate=0.2, max_depth=3, n_estimators=100, subsample=1.0; total time=   0.0s\n",
      "[CV] END learning_rate=0.2, max_depth=3, n_estimators=200, subsample=0.8; total time=   0.1s\n",
      "[CV] END learning_rate=0.2, max_depth=3, n_estimators=200, subsample=0.8; total time=   0.1s\n",
      "[CV] END learning_rate=0.2, max_depth=3, n_estimators=200, subsample=0.8; total time=   0.1s\n",
      "[CV] END learning_rate=0.2, max_depth=3, n_estimators=200, subsample=1.0; total time=   0.1s\n",
      "[CV] END learning_rate=0.2, max_depth=3, n_estimators=200, subsample=1.0; total time=   0.1s\n",
      "[CV] END learning_rate=0.2, max_depth=3, n_estimators=200, subsample=1.0; total time=   0.1s\n",
      "[CV] END learning_rate=0.2, max_depth=3, n_estimators=300, subsample=0.8; total time=   0.1s\n",
      "[CV] END learning_rate=0.2, max_depth=3, n_estimators=300, subsample=0.8; total time=   0.1s\n",
      "[CV] END learning_rate=0.2, max_depth=3, n_estimators=300, subsample=0.8; total time=   0.1s\n",
      "[CV] END learning_rate=0.2, max_depth=3, n_estimators=300, subsample=1.0; total time=   0.1s\n",
      "[CV] END learning_rate=0.2, max_depth=3, n_estimators=300, subsample=1.0; total time=   0.1s\n",
      "[CV] END learning_rate=0.2, max_depth=3, n_estimators=300, subsample=1.0; total time=   0.1s\n",
      "[CV] END learning_rate=0.2, max_depth=5, n_estimators=100, subsample=0.8; total time=   0.1s\n",
      "[CV] END learning_rate=0.2, max_depth=5, n_estimators=100, subsample=0.8; total time=   0.1s\n",
      "[CV] END learning_rate=0.2, max_depth=5, n_estimators=100, subsample=0.8; total time=   0.1s\n",
      "[CV] END learning_rate=0.2, max_depth=5, n_estimators=100, subsample=1.0; total time=   0.1s\n",
      "[CV] END learning_rate=0.2, max_depth=5, n_estimators=100, subsample=1.0; total time=   0.1s\n",
      "[CV] END learning_rate=0.2, max_depth=5, n_estimators=100, subsample=1.0; total time=   0.1s\n",
      "[CV] END learning_rate=0.2, max_depth=5, n_estimators=200, subsample=0.8; total time=   0.1s\n",
      "[CV] END learning_rate=0.2, max_depth=5, n_estimators=200, subsample=0.8; total time=   0.1s\n",
      "[CV] END learning_rate=0.2, max_depth=5, n_estimators=200, subsample=0.8; total time=   0.1s\n",
      "[CV] END learning_rate=0.2, max_depth=5, n_estimators=200, subsample=1.0; total time=   0.1s\n",
      "[CV] END learning_rate=0.2, max_depth=5, n_estimators=200, subsample=1.0; total time=   0.2s\n",
      "[CV] END learning_rate=0.2, max_depth=5, n_estimators=200, subsample=1.0; total time=   0.1s\n",
      "[CV] END learning_rate=0.2, max_depth=5, n_estimators=300, subsample=0.8; total time=   0.2s\n",
      "[CV] END learning_rate=0.2, max_depth=5, n_estimators=300, subsample=0.8; total time=   0.2s\n",
      "[CV] END learning_rate=0.2, max_depth=5, n_estimators=300, subsample=0.8; total time=   0.2s\n",
      "[CV] END learning_rate=0.2, max_depth=5, n_estimators=300, subsample=1.0; total time=   0.2s\n",
      "[CV] END learning_rate=0.2, max_depth=5, n_estimators=300, subsample=1.0; total time=   0.2s\n",
      "[CV] END learning_rate=0.2, max_depth=5, n_estimators=300, subsample=1.0; total time=   0.2s\n",
      "[CV] END learning_rate=0.2, max_depth=7, n_estimators=100, subsample=0.8; total time=   0.1s\n",
      "[CV] END learning_rate=0.2, max_depth=7, n_estimators=100, subsample=0.8; total time=   0.1s\n",
      "[CV] END learning_rate=0.2, max_depth=7, n_estimators=100, subsample=0.8; total time=   0.1s\n",
      "[CV] END learning_rate=0.2, max_depth=7, n_estimators=100, subsample=1.0; total time=   0.1s\n",
      "[CV] END learning_rate=0.2, max_depth=7, n_estimators=100, subsample=1.0; total time=   0.1s\n",
      "[CV] END learning_rate=0.2, max_depth=7, n_estimators=100, subsample=1.0; total time=   0.1s\n",
      "[CV] END learning_rate=0.2, max_depth=7, n_estimators=200, subsample=0.8; total time=   0.2s\n",
      "[CV] END learning_rate=0.2, max_depth=7, n_estimators=200, subsample=0.8; total time=   0.2s\n",
      "[CV] END learning_rate=0.2, max_depth=7, n_estimators=200, subsample=0.8; total time=   0.2s\n",
      "[CV] END learning_rate=0.2, max_depth=7, n_estimators=200, subsample=1.0; total time=   0.1s\n",
      "[CV] END learning_rate=0.2, max_depth=7, n_estimators=200, subsample=1.0; total time=   0.2s\n",
      "[CV] END learning_rate=0.2, max_depth=7, n_estimators=200, subsample=1.0; total time=   0.2s\n",
      "[CV] END learning_rate=0.2, max_depth=7, n_estimators=300, subsample=0.8; total time=   0.3s\n",
      "[CV] END learning_rate=0.2, max_depth=7, n_estimators=300, subsample=0.8; total time=   0.2s\n",
      "[CV] END learning_rate=0.2, max_depth=7, n_estimators=300, subsample=0.8; total time=   0.3s\n",
      "[CV] END learning_rate=0.2, max_depth=7, n_estimators=300, subsample=1.0; total time=   0.2s\n",
      "[CV] END learning_rate=0.2, max_depth=7, n_estimators=300, subsample=1.0; total time=   0.2s\n",
      "[CV] END learning_rate=0.2, max_depth=7, n_estimators=300, subsample=1.0; total time=   0.2s\n",
      "Best Parameters: {'learning_rate': 0.2, 'max_depth': 7, 'n_estimators': 200, 'subsample': 0.8}\n",
      "Accuracy of Best Gradient Boosting Model: 0.7500\n",
      "              precision    recall  f1-score   support\n",
      "\n",
      "           0       1.00      0.50      0.67         8\n",
      "           1       0.67      1.00      0.80         8\n",
      "\n",
      "    accuracy                           0.75        16\n",
      "   macro avg       0.83      0.75      0.73        16\n",
      "weighted avg       0.83      0.75      0.73        16\n",
      "\n",
      "Confusion Matrix:\n",
      "[[4 4]\n",
      " [0 8]]\n"
     ]
    },
    {
     "data": {
      "image/png": "[encoded data removed]",
      "text/plain": [
       "<Figure size 432x288 with 1 Axes>"
      ]
     },
     "metadata": {
      "needs_background": "light"
     },
     "output_type": "display_data"
    },
    {
     "name": "stdout",
     "output_type": "stream",
     "text": [
      "ROC-AUC Score: 0.8281\n"
     ]
    }
   ],
   "source": [
    "# 하이퍼파라미터 그리드 정의\n",
    "param_grid = {\n",
    "    'n_estimators': [100, 200, 300],      # 부스팅 단계 개수\n",
    "    'learning_rate': [0.01, 0.1, 0.2],   # 학습률\n",
    "    'max_depth': [3, 5, 7],              # 트리 최대 깊이\n",
    "    'subsample': [0.8, 1.0]             # 샘플링 비율\n",
    "}\n",
    "\n",
    "# GridSearchCV 설정\n",
    "gb_model = GradientBoostingClassifier(random_state=42)\n",
    "grid_search = GridSearchCV(estimator=gb_model, param_grid=param_grid, cv=3, scoring='accuracy', verbose=2, n_jobs=-1)\n",
    "\n",
    "print(\"Starting Gradient Boosting Grid Search...\")\n",
    "grid_search.fit(X_train_resampled, y_train_resampled)\n",
    "\n",
    "# 최적의 하이퍼파라미터와 모델 출력\n",
    "best_params = grid_search.best_params_\n",
    "best_model = grid_search.best_estimator_\n",
    "print(f\"Best Parameters: {best_params}\")\n",
    "\n",
    "# 최적 모델로 테스트 데이터 평가\n",
    "y_pred_best = best_model.predict(X_test)\n",
    "acc_best = accuracy_score(y_test, y_pred_best)\n",
    "print(f\"Accuracy of Best Gradient Boosting Model: {acc_best:.4f}\")\n",
    "print(classification_report(y_test, y_pred_best))\n",
    "\n",
    "# 혼동 행렬 생성 및 시각화\n",
    "cm = confusion_matrix(y_test, y_pred_best)\n",
    "print(\"Confusion Matrix:\")\n",
    "print(cm)\n",
    "\n",
    "# ROC 커브 및 AUC 추가\n",
    "y_pred_proba = best_model.predict_proba(X_test)[:, 1]  # Positive 클래스에 대한 확률 추출 (이진 분류)\n",
    "fpr, tpr, thresholds = roc_curve(y_test, y_pred_proba)\n",
    "auc_score = roc_auc_score(y_test, y_pred_proba)\n",
    "\n",
    "# ROC 커브 시각화\n",
    "plt.figure()\n",
    "plt.plot(fpr, tpr, color='blue', label=f\"ROC Curve (AUC = {auc_score:.4f})\")\n",
    "plt.plot([0, 1], [0, 1], color='gray', linestyle='--', label=\"Random Guess\")\n",
    "plt.xlabel(\"False Positive Rate\")\n",
    "plt.ylabel(\"True Positive Rate\")\n",
    "plt.title(\"Receiver Operating Characteristic (ROC) Curve\")\n",
    "plt.legend(loc=\"lower right\")\n",
    "plt.grid()\n",
    "plt.show()\n",
    "\n",
    "# AUC Score 출력\n",
    "print(f\"ROC-AUC Score: {auc_score:.4f}\")"
   ]
  },
  {
   "cell_type": "markdown",
   "id": "7e2f07c2",
   "metadata": {},
   "source": [
    "## 결론  \n",
    "[세대수, 평수, 지원유형, 지하철, 버스정류소]가 가장 좋았음  \n",
    "\n",
    "Gradient Boosting  \n",
    "Best Parameters: {'learning_rate': 0.2, 'max_depth': 7, 'n_estimators': 200, 'subsample': 0.8} \n",
    " \n",
    "- Accuracy: 0.7500\n",
    "- ROC-AUC Score : 0.8281\n",
    "- Confusion Matrix:  \n",
    "[4 4]  \n",
    "[0 8]  \n",
    "\n"
   ]
  }
 ],
 "metadata": {
  "kernelspec": {
   "display_name": "Python 3",
   "language": "python",
   "name": "python3"
  },
  "language_info": {
   "codemirror_mode": {
    "name": "ipython",
    "version": 3
   },
   "file_extension": ".py",
   "mimetype": "text/x-python",
   "name": "python",
   "nbconvert_exporter": "python",
   "pygments_lexer": "ipython3",
   "version": "3.6.9"
  }
 },
 "nbformat": 4,
 "nbformat_minor": 5
}
